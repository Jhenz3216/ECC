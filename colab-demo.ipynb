{
  "nbformat": 4,
  "nbformat_minor": 0,
  "metadata": {
    "colab": {
      "name": "colab-demo.ipynb",
      "provenance": [],
      "toc_visible": true
    },
    "kernelspec": {
      "display_name": "Python 3",
      "language": "python",
      "name": "python3"
    },
    "language_info": {
      "codemirror_mode": {
        "name": "ipython",
        "version": 3
      },
      "file_extension": ".py",
      "mimetype": "text/x-python",
      "name": "python",
      "nbconvert_exporter": "python",
      "pygments_lexer": "ipython3",
      "version": "3.6.10"
    }
  },
  "cells": [
    {
      "cell_type": "markdown",
      "metadata": {
        "id": "MQDqfpQfUadZ"
      },
      "source": [
        "To use Cantera in Google Colaboratory, you'll need to first install it using these"
      ]
    },
    {
      "cell_type": "code",
      "metadata": {
        "id": "r6i-9JwqSsoc",
        "colab": {
          "base_uri": "https://localhost:8080/"
        },
        "outputId": "3a89e17e-feb7-4358-ef1d-d9065b622eb7"
      },
      "source": [
        "!apt-get -qq update -y\n",
        "!apt-get -qq install -y python3-software-properties\n",
        "!apt-add-repository -y ppa:speth/cantera > /dev/null 2>&1\n",
        "!apt-get -qq install -y cantera-python3"
      ],
      "execution_count": 1,
      "outputs": [
        {
          "output_type": "stream",
          "name": "stdout",
          "text": [
            "W: Skipping acquire of configured file 'main/source/Sources' as repository 'https://r2u.stat.illinois.edu/ubuntu jammy InRelease' does not seem to provide it (sources.list entry misspelt?)\n",
            "E: Unable to locate package cantera-python3\n"
          ]
        }
      ]
    },
    {
      "cell_type": "markdown",
      "metadata": {
        "id": "Wh_p22QWVqnx"
      },
      "source": [
        "Install other non-default packages like Pint and CoolProp:"
      ]
    },
    {
      "cell_type": "code",
      "metadata": {
        "id": "XneGKNH1TizL",
        "colab": {
          "base_uri": "https://localhost:8080/"
        },
        "outputId": "5a8c62e2-1269-42b0-b389-dc716daac8f1"
      },
      "source": [
        "!pip install -q cantera pint coolprop"
      ],
      "execution_count": 2,
      "outputs": [
        {
          "output_type": "stream",
          "name": "stdout",
          "text": [
            "\u001b[2K   \u001b[90m━━━━━━━━━━━━━━━━━━━━━━━━━━━━━━━━━━━━━━━━\u001b[0m \u001b[32m19.1/19.1 MB\u001b[0m \u001b[31m70.5 MB/s\u001b[0m eta \u001b[36m0:00:00\u001b[0m\n",
            "\u001b[2K   \u001b[90m━━━━━━━━━━━━━━━━━━━━━━━━━━━━━━━━━━━━━━━━\u001b[0m \u001b[32m302.0/302.0 kB\u001b[0m \u001b[31m15.5 MB/s\u001b[0m eta \u001b[36m0:00:00\u001b[0m\n",
            "\u001b[2K   \u001b[90m━━━━━━━━━━━━━━━━━━━━━━━━━━━━━━━━━━━━━━━━\u001b[0m \u001b[32m7.3/7.3 MB\u001b[0m \u001b[31m89.3 MB/s\u001b[0m eta \u001b[36m0:00:00\u001b[0m\n",
            "\u001b[2K   \u001b[90m━━━━━━━━━━━━━━━━━━━━━━━━━━━━━━━━━━━━━━━━\u001b[0m \u001b[32m117.7/117.7 kB\u001b[0m \u001b[31m7.3 MB/s\u001b[0m eta \u001b[36m0:00:00\u001b[0m\n",
            "\u001b[2K   \u001b[90m━━━━━━━━━━━━━━━━━━━━━━━━━━━━━━━━━━━━━━━━\u001b[0m \u001b[32m739.1/739.1 kB\u001b[0m \u001b[31m30.7 MB/s\u001b[0m eta \u001b[36m0:00:00\u001b[0m\n",
            "\u001b[?25h"
          ]
        }
      ]
    },
    {
      "cell_type": "markdown",
      "metadata": {
        "id": "uitMAaovWBHA"
      },
      "source": [
        "Now load all the necessary libraries:"
      ]
    },
    {
      "cell_type": "code",
      "metadata": {
        "id": "kI_PvwDyT_mM"
      },
      "source": [
        "import numpy as np\n",
        "import matplotlib.pyplot as plt\n",
        "import cantera as ct\n",
        "\n",
        "from pint import UnitRegistry\n",
        "ureg = UnitRegistry()\n",
        "Q_ = ureg.Quantity"
      ],
      "execution_count": 5,
      "outputs": []
    },
    {
      "cell_type": "code",
      "metadata": {
        "id": "divLFYT5qHd6"
      },
      "source": [],
      "execution_count": null,
      "outputs": []
    }
  ]
}